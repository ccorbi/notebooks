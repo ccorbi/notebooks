{
 "cells": [
  {
   "cell_type": "code",
   "execution_count": null,
   "metadata": {
    "collapsed": true
   },
   "outputs": [],
   "source": [
    "# common imports"
   ]
  },
  {
   "cell_type": "code",
   "execution_count": 1,
   "metadata": {
    "collapsed": true
   },
   "outputs": [],
   "source": [
    "%matplotlib inline"
   ]
  },
  {
   "cell_type": "code",
   "execution_count": 2,
   "metadata": {
    "collapsed": true
   },
   "outputs": [],
   "source": [
    "%load_ext autoreload\n",
    "%autoreload 2"
   ]
  },
  {
   "cell_type": "code",
   "execution_count": null,
   "metadata": {
    "collapsed": true
   },
   "outputs": [],
   "source": [
    "# Standard library\n",
    "import concurrent.futures\n",
    "import csv\n",
    "import datetime\n",
    "import functools\n",
    "import glob\n",
    "import gzip\n",
    "import importlib\n",
    "import itertools\n",
    "import json\n",
    "import logging\n",
    "import os\n",
    "import os.path as op\n",
    "import pathlib\n",
    "import pickle\n",
    "import shutil\n",
    "import string\n",
    "import subprocess\n",
    "import sys\n",
    "import tempfile\n",
    "import time\n",
    "import urllib\n",
    "import random\n",
    "\n",
    "from collections import Counter, defaultdict, OrderedDict, namedtuple\n",
    "from pathlib import Path\n",
    "from pprint import pprint\n",
    "from textwrap import dedent\n",
    "\n",
    "import matplotlib as mpl\n",
    "import matplotlib.pyplot as plt\n",
    "import numpy as np\n",
    "import pandas as pd\n",
    "import pyarrow as pa\n",
    "import pyarrow.parquet as pq\n",
    "import scipy as sp\n",
    "import seaborn as sns\n",
    "import sqlalchemy as sa\n",
    "import tqdm\n",
    "import wurlitzer\n",
    "import yaml\n",
    "\n",
    "from IPython.display import display, HTML, Math, IFrame"
   ]
  },
  {
   "cell_type": "code",
   "execution_count": null,
   "metadata": {
    "collapsed": true
   },
   "outputs": [],
   "source": [
    "# Display options\n",
    "pd.set_option('display.max_rows', 1000)\n",
    "pd.set_option('display.max_columns', 1000)\n",
    "pd.set_option('display.width', 1000)\n",
    "pd.set_option(\"display.max_colwidth\", 120)\n",
    "pd.set_option('mode.chained_assignment', None)\n",
    "pd.set_option('io.hdf.default_format','table')\n",
    "\n",
    "sns.set_style('whitegrid')\n",
    "sns.set_context('notebook', font_scale=2)"
   ]
  },
  {
   "cell_type": "code",
   "execution_count": null,
   "metadata": {
    "collapsed": true
   },
   "outputs": [],
   "source": [
    "# ploting\n",
    "def set_plot_sizes(sml, med, big):\n",
    "    plt.rc('font', size=sml)          # controls default text sizes\n",
    "    plt.rc('axes', titlesize=sml)     # fontsize of the axes title\n",
    "    plt.rc('axes', labelsize=med)    # fontsize of the x and y labels\n",
    "    plt.rc('xtick', labelsize=sml)    # fontsize of the tick labels\n",
    "    plt.rc('ytick', labelsize=sml)    # fontsize of the tick labels\n",
    "    plt.rc('legend', fontsize=sml)    # legend fontsize\n",
    "    plt.rc('figure', titlesize=big)  # fontsize of the figure title"
   ]
  },
  {
   "cell_type": "code",
   "execution_count": null,
   "metadata": {
    "collapsed": true
   },
   "outputs": [],
   "source": []
  },
  {
   "cell_type": "code",
   "execution_count": null,
   "metadata": {
    "collapsed": true
   },
   "outputs": [],
   "source": [
    "print(datetime.datetime.now())"
   ]
  },
  {
   "cell_type": "code",
   "execution_count": null,
   "metadata": {
    "collapsed": true
   },
   "outputs": [],
   "source": [
    "_IMPORTS_LOADED = True"
   ]
  }
 ],
 "metadata": {
  "anaconda-cloud": {},
  "kernelspec": {
   "display_name": "Python 3",
   "language": "python",
   "name": "python3"
  },
  "language_info": {
   "codemirror_mode": {
    "name": "ipython",
    "version": 3
   },
   "file_extension": ".py",
   "mimetype": "text/x-python",
   "name": "python",
   "nbconvert_exporter": "python",
   "pygments_lexer": "ipython3",
   "version": "3.6.5"
  },
  "nav_menu": {},
  "toc": {
   "navigate_menu": true,
   "number_sections": true,
   "sideBar": true,
   "threshold": 6,
   "toc_cell": false,
   "toc_section_display": "block",
   "toc_window_display": false
  }
 },
 "nbformat": 4,
 "nbformat_minor": 2
}
